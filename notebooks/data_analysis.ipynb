{
 "cells": [
  {
   "cell_type": "code",
   "execution_count": 1,
   "metadata": {},
   "outputs": [],
   "source": [
    "# Enable module reloading\n",
    "%load_ext autoreload\n",
    "%autoreload 2"
   ]
  },
  {
   "cell_type": "code",
   "execution_count": 2,
   "metadata": {},
   "outputs": [],
   "source": [
    "import os\n",
    "os.chdir(\"..\")"
   ]
  },
  {
   "cell_type": "code",
   "execution_count": 4,
   "metadata": {},
   "outputs": [
    {
     "name": "stderr",
     "output_type": "stream",
     "text": [
      "[nltk_data] Downloading package punkt to /root/nltk_data...\n",
      "[nltk_data]   Package punkt is already up-to-date!\n",
      "[nltk_data] Downloading package wordnet to /root/nltk_data...\n",
      "[nltk_data]   Package wordnet is already up-to-date!\n"
     ]
    }
   ],
   "source": [
    "import nltk\n",
    "from nltk import WordNetLemmatizer\n",
    "from nltk.tokenize import word_tokenize\n",
    "import numpy as np\n",
    "import pandas as pd\n",
    "import seaborn as sns\n",
    "\n",
    "from contradictory_my_dear_watson.analysis import get_outliers\n",
    "\n",
    "nltk.download('punkt')\n",
    "nltk.download('wordnet')\n",
    "\n",
    "sns.set(\n",
    "    style='whitegrid',\n",
    "    rc={'figure.figsize': (11, 8)}\n",
    ")"
   ]
  },
  {
   "cell_type": "markdown",
   "metadata": {},
   "source": [
    "# Data Analysis"
   ]
  },
  {
   "cell_type": "code",
   "execution_count": 7,
   "metadata": {},
   "outputs": [
    {
     "data": {
      "text/html": [
       "<div>\n",
       "<style scoped>\n",
       "    .dataframe tbody tr th:only-of-type {\n",
       "        vertical-align: middle;\n",
       "    }\n",
       "\n",
       "    .dataframe tbody tr th {\n",
       "        vertical-align: top;\n",
       "    }\n",
       "\n",
       "    .dataframe thead th {\n",
       "        text-align: right;\n",
       "    }\n",
       "</style>\n",
       "<table border=\"1\" class=\"dataframe\">\n",
       "  <thead>\n",
       "    <tr style=\"text-align: right;\">\n",
       "      <th></th>\n",
       "      <th>id</th>\n",
       "      <th>premise</th>\n",
       "      <th>hypothesis</th>\n",
       "      <th>lang_abv</th>\n",
       "      <th>language</th>\n",
       "      <th>label</th>\n",
       "    </tr>\n",
       "  </thead>\n",
       "  <tbody>\n",
       "    <tr>\n",
       "      <th>0</th>\n",
       "      <td>5130fd2cb5</td>\n",
       "      <td>and these comments were considered in formulat...</td>\n",
       "      <td>The rules developed in the interim were put to...</td>\n",
       "      <td>en</td>\n",
       "      <td>English</td>\n",
       "      <td>0</td>\n",
       "    </tr>\n",
       "    <tr>\n",
       "      <th>1</th>\n",
       "      <td>5b72532a0b</td>\n",
       "      <td>These are issues that we wrestle with in pract...</td>\n",
       "      <td>Practice groups are not permitted to work on t...</td>\n",
       "      <td>en</td>\n",
       "      <td>English</td>\n",
       "      <td>2</td>\n",
       "    </tr>\n",
       "    <tr>\n",
       "      <th>2</th>\n",
       "      <td>3931fbe82a</td>\n",
       "      <td>Des petites choses comme celles-là font une di...</td>\n",
       "      <td>J'essayais d'accomplir quelque chose.</td>\n",
       "      <td>fr</td>\n",
       "      <td>French</td>\n",
       "      <td>0</td>\n",
       "    </tr>\n",
       "    <tr>\n",
       "      <th>3</th>\n",
       "      <td>5622f0c60b</td>\n",
       "      <td>you know they can't really defend themselves l...</td>\n",
       "      <td>They can't defend themselves because of their ...</td>\n",
       "      <td>en</td>\n",
       "      <td>English</td>\n",
       "      <td>0</td>\n",
       "    </tr>\n",
       "    <tr>\n",
       "      <th>4</th>\n",
       "      <td>86aaa48b45</td>\n",
       "      <td>ในการเล่นบทบาทสมมุติก็เช่นกัน โอกาสที่จะได้แสด...</td>\n",
       "      <td>เด็กสามารถเห็นได้ว่าชาติพันธุ์แตกต่างกันอย่างไร</td>\n",
       "      <td>th</td>\n",
       "      <td>Thai</td>\n",
       "      <td>1</td>\n",
       "    </tr>\n",
       "    <tr>\n",
       "      <th>...</th>\n",
       "      <td>...</td>\n",
       "      <td>...</td>\n",
       "      <td>...</td>\n",
       "      <td>...</td>\n",
       "      <td>...</td>\n",
       "      <td>...</td>\n",
       "    </tr>\n",
       "    <tr>\n",
       "      <th>12115</th>\n",
       "      <td>2b78e2a914</td>\n",
       "      <td>The results of even the most well designed epi...</td>\n",
       "      <td>All studies have the same amount of uncertaint...</td>\n",
       "      <td>en</td>\n",
       "      <td>English</td>\n",
       "      <td>2</td>\n",
       "    </tr>\n",
       "    <tr>\n",
       "      <th>12116</th>\n",
       "      <td>7e9943d152</td>\n",
       "      <td>But there are two kinds of  the pleasure of do...</td>\n",
       "      <td>But there are two kinds of the pleasure of doi...</td>\n",
       "      <td>en</td>\n",
       "      <td>English</td>\n",
       "      <td>0</td>\n",
       "    </tr>\n",
       "    <tr>\n",
       "      <th>12117</th>\n",
       "      <td>5085923e6c</td>\n",
       "      <td>The important thing is to realize that it's wa...</td>\n",
       "      <td>It cannot be moved, now or ever.</td>\n",
       "      <td>en</td>\n",
       "      <td>English</td>\n",
       "      <td>2</td>\n",
       "    </tr>\n",
       "    <tr>\n",
       "      <th>12118</th>\n",
       "      <td>fc8e2fd1fe</td>\n",
       "      <td>At the west end is a detailed model of the who...</td>\n",
       "      <td>The model temple complex is at the east end.</td>\n",
       "      <td>en</td>\n",
       "      <td>English</td>\n",
       "      <td>2</td>\n",
       "    </tr>\n",
       "    <tr>\n",
       "      <th>12119</th>\n",
       "      <td>44301dfb14</td>\n",
       "      <td>For himself he chose Atat??rk, or Father of th...</td>\n",
       "      <td>Ataturk was the father of the Turkish nation.</td>\n",
       "      <td>en</td>\n",
       "      <td>English</td>\n",
       "      <td>0</td>\n",
       "    </tr>\n",
       "  </tbody>\n",
       "</table>\n",
       "<p>12120 rows × 6 columns</p>\n",
       "</div>"
      ],
      "text/plain": [
       "               id                                            premise  \\\n",
       "0      5130fd2cb5  and these comments were considered in formulat...   \n",
       "1      5b72532a0b  These are issues that we wrestle with in pract...   \n",
       "2      3931fbe82a  Des petites choses comme celles-là font une di...   \n",
       "3      5622f0c60b  you know they can't really defend themselves l...   \n",
       "4      86aaa48b45  ในการเล่นบทบาทสมมุติก็เช่นกัน โอกาสที่จะได้แสด...   \n",
       "...           ...                                                ...   \n",
       "12115  2b78e2a914  The results of even the most well designed epi...   \n",
       "12116  7e9943d152  But there are two kinds of  the pleasure of do...   \n",
       "12117  5085923e6c  The important thing is to realize that it's wa...   \n",
       "12118  fc8e2fd1fe  At the west end is a detailed model of the who...   \n",
       "12119  44301dfb14  For himself he chose Atat??rk, or Father of th...   \n",
       "\n",
       "                                              hypothesis lang_abv language  \\\n",
       "0      The rules developed in the interim were put to...       en  English   \n",
       "1      Practice groups are not permitted to work on t...       en  English   \n",
       "2                  J'essayais d'accomplir quelque chose.       fr   French   \n",
       "3      They can't defend themselves because of their ...       en  English   \n",
       "4        เด็กสามารถเห็นได้ว่าชาติพันธุ์แตกต่างกันอย่างไร       th     Thai   \n",
       "...                                                  ...      ...      ...   \n",
       "12115  All studies have the same amount of uncertaint...       en  English   \n",
       "12116  But there are two kinds of the pleasure of doi...       en  English   \n",
       "12117                   It cannot be moved, now or ever.       en  English   \n",
       "12118       The model temple complex is at the east end.       en  English   \n",
       "12119      Ataturk was the father of the Turkish nation.       en  English   \n",
       "\n",
       "       label  \n",
       "0          0  \n",
       "1          2  \n",
       "2          0  \n",
       "3          0  \n",
       "4          1  \n",
       "...      ...  \n",
       "12115      2  \n",
       "12116      0  \n",
       "12117      2  \n",
       "12118      2  \n",
       "12119      0  \n",
       "\n",
       "[12120 rows x 6 columns]"
      ]
     },
     "execution_count": 7,
     "metadata": {},
     "output_type": "execute_result"
    }
   ],
   "source": [
    "data = pd.read_csv('data/train.csv')\n",
    "data"
   ]
  },
  {
   "cell_type": "markdown",
   "metadata": {},
   "source": [
    "The classification of the relationship between the premise and hypothesis is `label` - 0 for entailment, 1 for neutral and 2 for contradiction. Let's map these numerical values to their textual equivalents for better readability."
   ]
  },
  {
   "cell_type": "code",
   "execution_count": 8,
   "metadata": {},
   "outputs": [],
   "source": [
    "data.label = data.label.map({0: 'entailment', 1: 'neutral', 2: 'contradiction'})"
   ]
  },
  {
   "cell_type": "markdown",
   "metadata": {},
   "source": [
    "The vast majority of relationships are in english, so we will focus only on this language."
   ]
  },
  {
   "cell_type": "code",
   "execution_count": 9,
   "metadata": {},
   "outputs": [
    {
     "data": {
      "image/png": "[encoded data removed]",
      "text/plain": [
       "<Figure size 792x576 with 1 Axes>"
      ]
     },
     "metadata": {},
     "output_type": "display_data"
    }
   ],
   "source": [
    "_ = data.language.value_counts().plot(kind='bar', rot=0)"
   ]
  },
  {
   "cell_type": "markdown",
   "metadata": {},
   "source": [
    "There is quite a few data, but classification categories are quite balanced."
   ]
  },
  {
   "cell_type": "code",
   "execution_count": 10,
   "metadata": {},
   "outputs": [
    {
     "data": {
      "text/plain": [
       "6870"
      ]
     },
     "execution_count": 10,
     "metadata": {},
     "output_type": "execute_result"
    }
   ],
   "source": [
    "data = data[data.language == 'English']\n",
    "len(data)"
   ]
  },
  {
   "cell_type": "code",
   "execution_count": 11,
   "metadata": {},
   "outputs": [
    {
     "data": {
      "image/png": "[encoded data removed]",
      "text/plain": [
       "<Figure size 792x576 with 1 Axes>"
      ]
     },
     "metadata": {},
     "output_type": "display_data"
    }
   ],
   "source": [
    "_ = data.label.value_counts().plot(kind='bar', rot=0)"
   ]
  },
  {
   "cell_type": "markdown",
   "metadata": {},
   "source": [
    "## Lengths of Sentences"
   ]
  },
  {
   "cell_type": "markdown",
   "metadata": {},
   "source": [
    "### Lengths of Premises"
   ]
  },
  {
   "cell_type": "markdown",
   "metadata": {},
   "source": [
    "Premises have in average about 20 words, but there are also some upper outliers."
   ]
  },
  {
   "cell_type": "code",
   "execution_count": 12,
   "metadata": {},
   "outputs": [],
   "source": [
    "data = data.assign(premise_length=data.premise.apply(lambda x: len(word_tokenize(x))))"
   ]
  },
  {
   "cell_type": "code",
   "execution_count": 13,
   "metadata": {},
   "outputs": [
    {
     "data": {
      "text/plain": [
       "(21.74381368267831, 19.0)"
      ]
     },
     "execution_count": 13,
     "metadata": {},
     "output_type": "execute_result"
    }
   ],
   "source": [
    "data.premise_length.mean(), data.premise_length.median()"
   ]
  },
  {
   "cell_type": "code",
   "execution_count": 14,
   "metadata": {},
   "outputs": [
    {
     "data": {
      "image/png": "[encoded data removed]",
      "text/plain": [
       "<Figure size 792x576 with 1 Axes>"
      ]
     },
     "metadata": {},
     "output_type": "display_data"
    }
   ],
   "source": [
    "_ = sns.distplot(data.premise_length)"
   ]
  },
  {
   "cell_type": "code",
   "execution_count": 15,
   "metadata": {},
   "outputs": [
    {
     "data": {
      "image/png": "[encoded data removed]",
      "text/plain": [
       "<Figure size 792x576 with 1 Axes>"
      ]
     },
     "metadata": {},
     "output_type": "display_data"
    }
   ],
   "source": [
    "_ = sns.boxplot(x=data.premise_length)"
   ]
  },
  {
   "cell_type": "markdown",
   "metadata": {},
   "source": [
    "Take look at outliers."
   ]
  },
  {
   "cell_type": "code",
   "execution_count": 16,
   "metadata": {},
   "outputs": [
    {
     "name": "stdout",
     "output_type": "stream",
     "text": [
      "lower bound: -16.0\n",
      "upper bound: 56.0\n"
     ]
    },
    {
     "data": {
      "text/html": [
       "<div>\n",
       "<style scoped>\n",
       "    .dataframe tbody tr th:only-of-type {\n",
       "        vertical-align: middle;\n",
       "    }\n",
       "\n",
       "    .dataframe tbody tr th {\n",
       "        vertical-align: top;\n",
       "    }\n",
       "\n",
       "    .dataframe thead th {\n",
       "        text-align: right;\n",
       "    }\n",
       "</style>\n",
       "<table border=\"1\" class=\"dataframe\">\n",
       "  <thead>\n",
       "    <tr style=\"text-align: right;\">\n",
       "      <th></th>\n",
       "      <th>id</th>\n",
       "      <th>premise</th>\n",
       "      <th>hypothesis</th>\n",
       "      <th>lang_abv</th>\n",
       "      <th>language</th>\n",
       "      <th>label</th>\n",
       "      <th>premise_length</th>\n",
       "    </tr>\n",
       "  </thead>\n",
       "  <tbody>\n",
       "    <tr>\n",
       "      <th>187</th>\n",
       "      <td>85cc0bfc3d</td>\n",
       "      <td>In the case of speech, Fiss appears to believe...</td>\n",
       "      <td>People in America are very well informed on co...</td>\n",
       "      <td>en</td>\n",
       "      <td>English</td>\n",
       "      <td>contradiction</td>\n",
       "      <td>57</td>\n",
       "    </tr>\n",
       "    <tr>\n",
       "      <th>190</th>\n",
       "      <td>13b2d2328b</td>\n",
       "      <td>and uh well if you if you got got him a power ...</td>\n",
       "      <td>He would mow your entire yard in eight minutes...</td>\n",
       "      <td>en</td>\n",
       "      <td>English</td>\n",
       "      <td>neutral</td>\n",
       "      <td>67</td>\n",
       "    </tr>\n",
       "    <tr>\n",
       "      <th>206</th>\n",
       "      <td>2d1499038c</td>\n",
       "      <td>exactly and when i'm sitting here on the sofa ...</td>\n",
       "      <td>A man tried to enter the house so that he coul...</td>\n",
       "      <td>en</td>\n",
       "      <td>English</td>\n",
       "      <td>neutral</td>\n",
       "      <td>65</td>\n",
       "    </tr>\n",
       "    <tr>\n",
       "      <th>269</th>\n",
       "      <td>5fb34600a3</td>\n",
       "      <td>For example, if Ovitz's five-year deal was wor...</td>\n",
       "      <td>The five-year deal will be worth $100 million</td>\n",
       "      <td>en</td>\n",
       "      <td>English</td>\n",
       "      <td>neutral</td>\n",
       "      <td>62</td>\n",
       "    </tr>\n",
       "    <tr>\n",
       "      <th>494</th>\n",
       "      <td>be4a343e63</td>\n",
       "      <td>there and they uh they in fact they had this w...</td>\n",
       "      <td>The canal is smaller than people expect it to be</td>\n",
       "      <td>en</td>\n",
       "      <td>English</td>\n",
       "      <td>entailment</td>\n",
       "      <td>57</td>\n",
       "    </tr>\n",
       "    <tr>\n",
       "      <th>...</th>\n",
       "      <td>...</td>\n",
       "      <td>...</td>\n",
       "      <td>...</td>\n",
       "      <td>...</td>\n",
       "      <td>...</td>\n",
       "      <td>...</td>\n",
       "      <td>...</td>\n",
       "    </tr>\n",
       "    <tr>\n",
       "      <th>11898</th>\n",
       "      <td>c8652bb575</td>\n",
       "      <td>These revelations were embarrassing to Clinton...</td>\n",
       "      <td>Clinton's supporters were pleased with how the...</td>\n",
       "      <td>en</td>\n",
       "      <td>English</td>\n",
       "      <td>neutral</td>\n",
       "      <td>64</td>\n",
       "    </tr>\n",
       "    <tr>\n",
       "      <th>11948</th>\n",
       "      <td>483310e434</td>\n",
       "      <td>there and they uh they in fact they had this w...</td>\n",
       "      <td>This was in 1928</td>\n",
       "      <td>en</td>\n",
       "      <td>English</td>\n",
       "      <td>neutral</td>\n",
       "      <td>57</td>\n",
       "    </tr>\n",
       "    <tr>\n",
       "      <th>12042</th>\n",
       "      <td>1934ec8b05</td>\n",
       "      <td>and i look back on that and i bought shoes i w...</td>\n",
       "      <td>I am envious of all my debt-free churchgoing f...</td>\n",
       "      <td>en</td>\n",
       "      <td>English</td>\n",
       "      <td>neutral</td>\n",
       "      <td>205</td>\n",
       "    </tr>\n",
       "    <tr>\n",
       "      <th>12054</th>\n",
       "      <td>64530031ac</td>\n",
       "      <td>On a December day in 1917, British General All...</td>\n",
       "      <td>The British General Allenby rode his horse ove...</td>\n",
       "      <td>en</td>\n",
       "      <td>English</td>\n",
       "      <td>contradiction</td>\n",
       "      <td>58</td>\n",
       "    </tr>\n",
       "    <tr>\n",
       "      <th>12057</th>\n",
       "      <td>afa572a41c</td>\n",
       "      <td>um-hum um-hum yeah well uh i can see you know ...</td>\n",
       "      <td>We loan a lot of money with strings attached a...</td>\n",
       "      <td>en</td>\n",
       "      <td>English</td>\n",
       "      <td>neutral</td>\n",
       "      <td>91</td>\n",
       "    </tr>\n",
       "  </tbody>\n",
       "</table>\n",
       "<p>159 rows × 7 columns</p>\n",
       "</div>"
      ],
      "text/plain": [
       "               id                                            premise  \\\n",
       "187    85cc0bfc3d  In the case of speech, Fiss appears to believe...   \n",
       "190    13b2d2328b  and uh well if you if you got got him a power ...   \n",
       "206    2d1499038c  exactly and when i'm sitting here on the sofa ...   \n",
       "269    5fb34600a3  For example, if Ovitz's five-year deal was wor...   \n",
       "494    be4a343e63  there and they uh they in fact they had this w...   \n",
       "...           ...                                                ...   \n",
       "11898  c8652bb575  These revelations were embarrassing to Clinton...   \n",
       "11948  483310e434  there and they uh they in fact they had this w...   \n",
       "12042  1934ec8b05  and i look back on that and i bought shoes i w...   \n",
       "12054  64530031ac  On a December day in 1917, British General All...   \n",
       "12057  afa572a41c  um-hum um-hum yeah well uh i can see you know ...   \n",
       "\n",
       "                                              hypothesis lang_abv language  \\\n",
       "187    People in America are very well informed on co...       en  English   \n",
       "190    He would mow your entire yard in eight minutes...       en  English   \n",
       "206    A man tried to enter the house so that he coul...       en  English   \n",
       "269        The five-year deal will be worth $100 million       en  English   \n",
       "494    The canal is smaller than people expect it to be        en  English   \n",
       "...                                                  ...      ...      ...   \n",
       "11898  Clinton's supporters were pleased with how the...       en  English   \n",
       "11948                                   This was in 1928       en  English   \n",
       "12042  I am envious of all my debt-free churchgoing f...       en  English   \n",
       "12054  The British General Allenby rode his horse ove...       en  English   \n",
       "12057  We loan a lot of money with strings attached a...       en  English   \n",
       "\n",
       "               label  premise_length  \n",
       "187    contradiction              57  \n",
       "190          neutral              67  \n",
       "206          neutral              65  \n",
       "269          neutral              62  \n",
       "494       entailment              57  \n",
       "...              ...             ...  \n",
       "11898        neutral              64  \n",
       "11948        neutral              57  \n",
       "12042        neutral             205  \n",
       "12054  contradiction              58  \n",
       "12057        neutral              91  \n",
       "\n",
       "[159 rows x 7 columns]"
      ]
     },
     "execution_count": 16,
     "metadata": {},
     "output_type": "execute_result"
    }
   ],
   "source": [
    "premises_outliers = get_outliers(data, 'premise_length')\n",
    "premises_outliers"
   ]
  },
  {
   "cell_type": "markdown",
   "metadata": {},
   "source": [
    "Look at quite long premise."
   ]
  },
  {
   "cell_type": "code",
   "execution_count": 17,
   "metadata": {},
   "outputs": [
    {
     "data": {
      "text/plain": [
       "(57,\n",
       " 'In the case of speech, Fiss appears to believe that the reason the American public is less enlightened than he would wish it to be concerning matters such as feminism, the rights of homosexuals, and regulation of industry is that people are denied access to the opinions and information that would enlighten them.')"
      ]
     },
     "execution_count": 17,
     "metadata": {},
     "output_type": "execute_result"
    }
   ],
   "source": [
    "premises_outliers.loc[187].premise_length, premises_outliers.loc[187].premise"
   ]
  },
  {
   "cell_type": "markdown",
   "metadata": {},
   "source": [
    "Look at extra long premise."
   ]
  },
  {
   "cell_type": "code",
   "execution_count": 18,
   "metadata": {},
   "outputs": [
    {
     "data": {
      "text/plain": [
       "(205,\n",
       " \"and i look back on that and i bought shoes i went shopping i did not need that money i did not need it i didn't need it i shouldn't have even qualified to get it i didn't need it and it would have been a little rough i might have eaten some bologna instead of roast beef out of the deli but i did not need it and as i look back now now we're paying that back i told my son if you have to live in the ghetto to go to college do it but don't take out ten thousand dollars in loans don't do it and i don't i hope don't think he'll have to do that but i just so like we might if we didn't have those loans we could have saved in the last five years the money for that and i believe we would have because God's really put it in our heart not to get in debt you know but we have friends at church that do this on a constant basis that are totally debt free and they pay cash for everything they buy\")"
      ]
     },
     "execution_count": 18,
     "metadata": {},
     "output_type": "execute_result"
    }
   ],
   "source": [
    "premises_outliers.loc[12042].premise_length, premises_outliers.loc[12042].premise"
   ]
  },
  {
   "cell_type": "code",
   "execution_count": 19,
   "metadata": {},
   "outputs": [
    {
     "data": {
      "text/html": [
       "<div>\n",
       "<style scoped>\n",
       "    .dataframe tbody tr th:only-of-type {\n",
       "        vertical-align: middle;\n",
       "    }\n",
       "\n",
       "    .dataframe tbody tr th {\n",
       "        vertical-align: top;\n",
       "    }\n",
       "\n",
       "    .dataframe thead th {\n",
       "        text-align: right;\n",
       "    }\n",
       "</style>\n",
       "<table border=\"1\" class=\"dataframe\">\n",
       "  <thead>\n",
       "    <tr style=\"text-align: right;\">\n",
       "      <th></th>\n",
       "      <th>id</th>\n",
       "      <th>premise</th>\n",
       "      <th>hypothesis</th>\n",
       "      <th>lang_abv</th>\n",
       "      <th>language</th>\n",
       "      <th>label</th>\n",
       "      <th>premise_length</th>\n",
       "    </tr>\n",
       "  </thead>\n",
       "  <tbody>\n",
       "    <tr>\n",
       "      <th>874</th>\n",
       "      <td>e852749fe6</td>\n",
       "      <td>i know because i think i've been reading i rea...</td>\n",
       "      <td>I'm not really familiar with the politics there.</td>\n",
       "      <td>en</td>\n",
       "      <td>English</td>\n",
       "      <td>contradiction</td>\n",
       "      <td>109</td>\n",
       "    </tr>\n",
       "    <tr>\n",
       "      <th>1844</th>\n",
       "      <td>31eba77caa</td>\n",
       "      <td>Of how, when tea was done, and everyone had st...</td>\n",
       "      <td>When tea was done, he put his hands on me.</td>\n",
       "      <td>en</td>\n",
       "      <td>English</td>\n",
       "      <td>entailment</td>\n",
       "      <td>113</td>\n",
       "    </tr>\n",
       "    <tr>\n",
       "      <th>2244</th>\n",
       "      <td>02ddad2b85</td>\n",
       "      <td>The rule prohibits the sale of nicotine-contai...</td>\n",
       "      <td>The rule will be put into effect as of January...</td>\n",
       "      <td>en</td>\n",
       "      <td>English</td>\n",
       "      <td>neutral</td>\n",
       "      <td>115</td>\n",
       "    </tr>\n",
       "    <tr>\n",
       "      <th>3950</th>\n",
       "      <td>7d40df9e17</td>\n",
       "      <td>well the first thing for me is i wonder i see ...</td>\n",
       "      <td>Talking about privacy is a complicated topic, ...</td>\n",
       "      <td>en</td>\n",
       "      <td>English</td>\n",
       "      <td>entailment</td>\n",
       "      <td>131</td>\n",
       "    </tr>\n",
       "    <tr>\n",
       "      <th>4843</th>\n",
       "      <td>373902d224</td>\n",
       "      <td>yes they would they just wouldn't be able to o...</td>\n",
       "      <td>Life will be great for subsequent generations ...</td>\n",
       "      <td>en</td>\n",
       "      <td>English</td>\n",
       "      <td>neutral</td>\n",
       "      <td>202</td>\n",
       "    </tr>\n",
       "    <tr>\n",
       "      <th>4858</th>\n",
       "      <td>3915478dce</td>\n",
       "      <td>Of how, when tea was done, and everyone had st...</td>\n",
       "      <td>When tea was done, he put his hands on me roma...</td>\n",
       "      <td>en</td>\n",
       "      <td>English</td>\n",
       "      <td>neutral</td>\n",
       "      <td>113</td>\n",
       "    </tr>\n",
       "    <tr>\n",
       "      <th>5011</th>\n",
       "      <td>da5efa18ec</td>\n",
       "      <td>right right well you know i think uh i think i...</td>\n",
       "      <td>Education will make it happen.</td>\n",
       "      <td>en</td>\n",
       "      <td>English</td>\n",
       "      <td>neutral</td>\n",
       "      <td>124</td>\n",
       "    </tr>\n",
       "    <tr>\n",
       "      <th>5195</th>\n",
       "      <td>14177c41b5</td>\n",
       "      <td>i know because i think i've been reading i rea...</td>\n",
       "      <td>Ten years ago, they rallies on streets with fl...</td>\n",
       "      <td>en</td>\n",
       "      <td>English</td>\n",
       "      <td>entailment</td>\n",
       "      <td>109</td>\n",
       "    </tr>\n",
       "    <tr>\n",
       "      <th>5202</th>\n",
       "      <td>f6ca5f9ec6</td>\n",
       "      <td>Of how, when tea was done, and everyone had st...</td>\n",
       "      <td>When tea was done, he took his hands off me.</td>\n",
       "      <td>en</td>\n",
       "      <td>English</td>\n",
       "      <td>contradiction</td>\n",
       "      <td>113</td>\n",
       "    </tr>\n",
       "    <tr>\n",
       "      <th>5336</th>\n",
       "      <td>c946626319</td>\n",
       "      <td>i know that you know the further we go from Ad...</td>\n",
       "      <td>I like to be able to eat real healthy.</td>\n",
       "      <td>en</td>\n",
       "      <td>English</td>\n",
       "      <td>entailment</td>\n",
       "      <td>133</td>\n",
       "    </tr>\n",
       "    <tr>\n",
       "      <th>5514</th>\n",
       "      <td>72a5ff51a1</td>\n",
       "      <td>i know because i think i've been reading i rea...</td>\n",
       "      <td>If I was there, I would have voted for Pedro.</td>\n",
       "      <td>en</td>\n",
       "      <td>English</td>\n",
       "      <td>neutral</td>\n",
       "      <td>109</td>\n",
       "    </tr>\n",
       "    <tr>\n",
       "      <th>5681</th>\n",
       "      <td>1a087ea88f</td>\n",
       "      <td>yes they would they just wouldn't be able to o...</td>\n",
       "      <td>I am glad our generation has no debt.</td>\n",
       "      <td>en</td>\n",
       "      <td>English</td>\n",
       "      <td>contradiction</td>\n",
       "      <td>202</td>\n",
       "    </tr>\n",
       "    <tr>\n",
       "      <th>6484</th>\n",
       "      <td>02088a9b8c</td>\n",
       "      <td>well the first thing for me is i wonder i see ...</td>\n",
       "      <td>Privacy is very simple, I can explain it to yo...</td>\n",
       "      <td>en</td>\n",
       "      <td>English</td>\n",
       "      <td>contradiction</td>\n",
       "      <td>131</td>\n",
       "    </tr>\n",
       "    <tr>\n",
       "      <th>6723</th>\n",
       "      <td>f01e7b91d1</td>\n",
       "      <td>i know that you know the further we go from Ad...</td>\n",
       "      <td>The further from Adam we go, the better the fo...</td>\n",
       "      <td>en</td>\n",
       "      <td>English</td>\n",
       "      <td>contradiction</td>\n",
       "      <td>133</td>\n",
       "    </tr>\n",
       "    <tr>\n",
       "      <th>6876</th>\n",
       "      <td>9e3c6ce68c</td>\n",
       "      <td>yeah the the i mean people like that are crazy...</td>\n",
       "      <td>It was something very dark and secretive, only...</td>\n",
       "      <td>en</td>\n",
       "      <td>English</td>\n",
       "      <td>contradiction</td>\n",
       "      <td>163</td>\n",
       "    </tr>\n",
       "    <tr>\n",
       "      <th>6931</th>\n",
       "      <td>2b8b1bd7e9</td>\n",
       "      <td>and i look back on that and i bought shoes i w...</td>\n",
       "      <td>My friends should look towards me as a model o...</td>\n",
       "      <td>en</td>\n",
       "      <td>English</td>\n",
       "      <td>neutral</td>\n",
       "      <td>205</td>\n",
       "    </tr>\n",
       "    <tr>\n",
       "      <th>7379</th>\n",
       "      <td>b1ed9470a3</td>\n",
       "      <td>The rule prohibits the sale of nicotine-contai...</td>\n",
       "      <td>The rule will not allow for cigarettes that co...</td>\n",
       "      <td>en</td>\n",
       "      <td>English</td>\n",
       "      <td>entailment</td>\n",
       "      <td>115</td>\n",
       "    </tr>\n",
       "    <tr>\n",
       "      <th>8080</th>\n",
       "      <td>50911bfd2f</td>\n",
       "      <td>yeah because you look at the statistics now an...</td>\n",
       "      <td>\"Every major city is now showing a decrease in...</td>\n",
       "      <td>en</td>\n",
       "      <td>English</td>\n",
       "      <td>contradiction</td>\n",
       "      <td>128</td>\n",
       "    </tr>\n",
       "    <tr>\n",
       "      <th>8232</th>\n",
       "      <td>3319d193cb</td>\n",
       "      <td>yeah the the i mean people like that are crazy...</td>\n",
       "      <td>I never attended school, mom wouldn't let me.</td>\n",
       "      <td>en</td>\n",
       "      <td>English</td>\n",
       "      <td>contradiction</td>\n",
       "      <td>163</td>\n",
       "    </tr>\n",
       "    <tr>\n",
       "      <th>9480</th>\n",
       "      <td>0c7d9f2c17</td>\n",
       "      <td>yeah the the i mean people like that are crazy...</td>\n",
       "      <td>It was something I performed research on durin...</td>\n",
       "      <td>en</td>\n",
       "      <td>English</td>\n",
       "      <td>entailment</td>\n",
       "      <td>163</td>\n",
       "    </tr>\n",
       "    <tr>\n",
       "      <th>9866</th>\n",
       "      <td>bc592535ae</td>\n",
       "      <td>well the first thing for me is i wonder i see ...</td>\n",
       "      <td>All invasions of privacy should be severely pu...</td>\n",
       "      <td>en</td>\n",
       "      <td>English</td>\n",
       "      <td>neutral</td>\n",
       "      <td>131</td>\n",
       "    </tr>\n",
       "    <tr>\n",
       "      <th>10090</th>\n",
       "      <td>d35aed4384</td>\n",
       "      <td>yes they would they just wouldn't be able to o...</td>\n",
       "      <td>Society would be perfect and there would be no...</td>\n",
       "      <td>en</td>\n",
       "      <td>English</td>\n",
       "      <td>neutral</td>\n",
       "      <td>202</td>\n",
       "    </tr>\n",
       "    <tr>\n",
       "      <th>10262</th>\n",
       "      <td>8ba7ce83ba</td>\n",
       "      <td>yeah because you look at the statistics now an...</td>\n",
       "      <td>\"Crime is escalating now in every major city, ...</td>\n",
       "      <td>en</td>\n",
       "      <td>English</td>\n",
       "      <td>neutral</td>\n",
       "      <td>128</td>\n",
       "    </tr>\n",
       "    <tr>\n",
       "      <th>12042</th>\n",
       "      <td>1934ec8b05</td>\n",
       "      <td>and i look back on that and i bought shoes i w...</td>\n",
       "      <td>I am envious of all my debt-free churchgoing f...</td>\n",
       "      <td>en</td>\n",
       "      <td>English</td>\n",
       "      <td>neutral</td>\n",
       "      <td>205</td>\n",
       "    </tr>\n",
       "  </tbody>\n",
       "</table>\n",
       "</div>"
      ],
      "text/plain": [
       "               id                                            premise  \\\n",
       "874    e852749fe6  i know because i think i've been reading i rea...   \n",
       "1844   31eba77caa  Of how, when tea was done, and everyone had st...   \n",
       "2244   02ddad2b85  The rule prohibits the sale of nicotine-contai...   \n",
       "3950   7d40df9e17  well the first thing for me is i wonder i see ...   \n",
       "4843   373902d224  yes they would they just wouldn't be able to o...   \n",
       "4858   3915478dce  Of how, when tea was done, and everyone had st...   \n",
       "5011   da5efa18ec  right right well you know i think uh i think i...   \n",
       "5195   14177c41b5  i know because i think i've been reading i rea...   \n",
       "5202   f6ca5f9ec6  Of how, when tea was done, and everyone had st...   \n",
       "5336   c946626319  i know that you know the further we go from Ad...   \n",
       "5514   72a5ff51a1  i know because i think i've been reading i rea...   \n",
       "5681   1a087ea88f  yes they would they just wouldn't be able to o...   \n",
       "6484   02088a9b8c  well the first thing for me is i wonder i see ...   \n",
       "6723   f01e7b91d1  i know that you know the further we go from Ad...   \n",
       "6876   9e3c6ce68c  yeah the the i mean people like that are crazy...   \n",
       "6931   2b8b1bd7e9  and i look back on that and i bought shoes i w...   \n",
       "7379   b1ed9470a3  The rule prohibits the sale of nicotine-contai...   \n",
       "8080   50911bfd2f  yeah because you look at the statistics now an...   \n",
       "8232   3319d193cb  yeah the the i mean people like that are crazy...   \n",
       "9480   0c7d9f2c17  yeah the the i mean people like that are crazy...   \n",
       "9866   bc592535ae  well the first thing for me is i wonder i see ...   \n",
       "10090  d35aed4384  yes they would they just wouldn't be able to o...   \n",
       "10262  8ba7ce83ba  yeah because you look at the statistics now an...   \n",
       "12042  1934ec8b05  and i look back on that and i bought shoes i w...   \n",
       "\n",
       "                                              hypothesis lang_abv language  \\\n",
       "874     I'm not really familiar with the politics there.       en  English   \n",
       "1844          When tea was done, he put his hands on me.       en  English   \n",
       "2244   The rule will be put into effect as of January...       en  English   \n",
       "3950   Talking about privacy is a complicated topic, ...       en  English   \n",
       "4843   Life will be great for subsequent generations ...       en  English   \n",
       "4858   When tea was done, he put his hands on me roma...       en  English   \n",
       "5011                      Education will make it happen.       en  English   \n",
       "5195   Ten years ago, they rallies on streets with fl...       en  English   \n",
       "5202        When tea was done, he took his hands off me.       en  English   \n",
       "5336              I like to be able to eat real healthy.       en  English   \n",
       "5514       If I was there, I would have voted for Pedro.       en  English   \n",
       "5681               I am glad our generation has no debt.       en  English   \n",
       "6484   Privacy is very simple, I can explain it to yo...       en  English   \n",
       "6723   The further from Adam we go, the better the fo...       en  English   \n",
       "6876   It was something very dark and secretive, only...       en  English   \n",
       "6931   My friends should look towards me as a model o...       en  English   \n",
       "7379   The rule will not allow for cigarettes that co...       en  English   \n",
       "8080   \"Every major city is now showing a decrease in...       en  English   \n",
       "8232       I never attended school, mom wouldn't let me.       en  English   \n",
       "9480   It was something I performed research on durin...       en  English   \n",
       "9866   All invasions of privacy should be severely pu...       en  English   \n",
       "10090  Society would be perfect and there would be no...       en  English   \n",
       "10262  \"Crime is escalating now in every major city, ...       en  English   \n",
       "12042  I am envious of all my debt-free churchgoing f...       en  English   \n",
       "\n",
       "               label  premise_length  \n",
       "874    contradiction             109  \n",
       "1844      entailment             113  \n",
       "2244         neutral             115  \n",
       "3950      entailment             131  \n",
       "4843         neutral             202  \n",
       "4858         neutral             113  \n",
       "5011         neutral             124  \n",
       "5195      entailment             109  \n",
       "5202   contradiction             113  \n",
       "5336      entailment             133  \n",
       "5514         neutral             109  \n",
       "5681   contradiction             202  \n",
       "6484   contradiction             131  \n",
       "6723   contradiction             133  \n",
       "6876   contradiction             163  \n",
       "6931         neutral             205  \n",
       "7379      entailment             115  \n",
       "8080   contradiction             128  \n",
       "8232   contradiction             163  \n",
       "9480      entailment             163  \n",
       "9866         neutral             131  \n",
       "10090        neutral             202  \n",
       "10262        neutral             128  \n",
       "12042        neutral             205  "
      ]
     },
     "execution_count": 19,
     "metadata": {},
     "output_type": "execute_result"
    }
   ],
   "source": [
    "premises_outliers[premises_outliers.premise_length > 100]"
   ]
  },
  {
   "cell_type": "code",
   "execution_count": 20,
   "metadata": {},
   "outputs": [
    {
     "data": {
      "text/plain": [
       "(109,\n",
       " \"i know because i think i've been reading i read this ten years ago that they were having these big uh um rallies and people would be in the streets flashing signs statehood yes and other people would statehood down the statehood it's it down there if you're um familiar with their politics they uh it's very uh i i don't know it's called Latino there they have loudspeakers on their cars and they run down the neighborhood saying vote for you know Pierre he's or uh Pedro uh Pedro he's the best it's it's really kind of comical\")"
      ]
     },
     "execution_count": 20,
     "metadata": {},
     "output_type": "execute_result"
    }
   ],
   "source": [
    "premises_outliers.loc[874].premise_length, premises_outliers.loc[874].premise"
   ]
  },
  {
   "cell_type": "markdown",
   "metadata": {},
   "source": [
    "Although some premises are quite long they can have sense. Some extra long look more concatenated sentences.\n",
    "\n",
    "Quite long premises can be preserved. We can experiment **with** and **without** extra long premises."
   ]
  },
  {
   "cell_type": "markdown",
   "metadata": {},
   "source": [
    "### Lengths of Hypotheses"
   ]
  },
  {
   "cell_type": "markdown",
   "metadata": {},
   "source": [
    "Hypotheses are half of length of premise."
   ]
  },
  {
   "cell_type": "code",
   "execution_count": 21,
   "metadata": {},
   "outputs": [],
   "source": [
    "data = data.assign(hypothesis_length=data.hypothesis.apply(lambda x: len(word_tokenize(x))))"
   ]
  },
  {
   "cell_type": "code",
   "execution_count": 22,
   "metadata": {},
   "outputs": [
    {
     "data": {
      "text/plain": [
       "(11.270596797671033, 11.0)"
      ]
     },
     "execution_count": 22,
     "metadata": {},
     "output_type": "execute_result"
    }
   ],
   "source": [
    "data.hypothesis_length.mean(), data.hypothesis_length.median()"
   ]
  },
  {
   "cell_type": "code",
   "execution_count": 23,
   "metadata": {},
   "outputs": [
    {
     "data": {
      "image/png": "[encoded data removed]",
      "text/plain": [
       "<Figure size 792x576 with 1 Axes>"
      ]
     },
     "metadata": {},
     "output_type": "display_data"
    }
   ],
   "source": [
    "_ = sns.distplot(data.hypothesis_length)"
   ]
  },
  {
   "cell_type": "code",
   "execution_count": 24,
   "metadata": {},
   "outputs": [
    {
     "data": {
      "image/png": "[encoded data removed]",
      "text/plain": [
       "<Figure size 792x576 with 1 Axes>"
      ]
     },
     "metadata": {},
     "output_type": "display_data"
    }
   ],
   "source": [
    "_ = sns.boxplot(x=data.hypothesis_length)"
   ]
  },
  {
   "cell_type": "markdown",
   "metadata": {},
   "source": [
    "Take look at outliers."
   ]
  },
  {
   "cell_type": "code",
   "execution_count": 25,
   "metadata": {},
   "outputs": [
    {
     "name": "stdout",
     "output_type": "stream",
     "text": [
      "lower bound: -1.0\n",
      "upper bound: 23.0\n"
     ]
    },
    {
     "data": {
      "text/html": [
       "<div>\n",
       "<style scoped>\n",
       "    .dataframe tbody tr th:only-of-type {\n",
       "        vertical-align: middle;\n",
       "    }\n",
       "\n",
       "    .dataframe tbody tr th {\n",
       "        vertical-align: top;\n",
       "    }\n",
       "\n",
       "    .dataframe thead th {\n",
       "        text-align: right;\n",
       "    }\n",
       "</style>\n",
       "<table border=\"1\" class=\"dataframe\">\n",
       "  <thead>\n",
       "    <tr style=\"text-align: right;\">\n",
       "      <th></th>\n",
       "      <th>id</th>\n",
       "      <th>premise</th>\n",
       "      <th>hypothesis</th>\n",
       "      <th>lang_abv</th>\n",
       "      <th>language</th>\n",
       "      <th>label</th>\n",
       "      <th>premise_length</th>\n",
       "      <th>hypothesis_length</th>\n",
       "    </tr>\n",
       "  </thead>\n",
       "  <tbody>\n",
       "    <tr>\n",
       "      <th>21</th>\n",
       "      <td>ad5a79456e</td>\n",
       "      <td>Increased saving by current generations would ...</td>\n",
       "      <td>Current generations' increased saving would ex...</td>\n",
       "      <td>en</td>\n",
       "      <td>English</td>\n",
       "      <td>entailment</td>\n",
       "      <td>32</td>\n",
       "      <td>33</td>\n",
       "    </tr>\n",
       "    <tr>\n",
       "      <th>67</th>\n",
       "      <td>e390988e6f</td>\n",
       "      <td>The seven grants flow from a new Nonprofit Cap...</td>\n",
       "      <td>The grants flow from a Nonprofit Capacity Buil...</td>\n",
       "      <td>en</td>\n",
       "      <td>English</td>\n",
       "      <td>neutral</td>\n",
       "      <td>39</td>\n",
       "      <td>31</td>\n",
       "    </tr>\n",
       "    <tr>\n",
       "      <th>251</th>\n",
       "      <td>685d9362cc</td>\n",
       "      <td>But is the Internet so miraculous an advertisi...</td>\n",
       "      <td>Was the internet so great at advertising that ...</td>\n",
       "      <td>en</td>\n",
       "      <td>English</td>\n",
       "      <td>entailment</td>\n",
       "      <td>47</td>\n",
       "      <td>39</td>\n",
       "    </tr>\n",
       "    <tr>\n",
       "      <th>271</th>\n",
       "      <td>006bde060b</td>\n",
       "      <td>As long as Assad lives, he can manage these tr...</td>\n",
       "      <td>As long as Assad doesn't die in the hurricane,...</td>\n",
       "      <td>en</td>\n",
       "      <td>English</td>\n",
       "      <td>neutral</td>\n",
       "      <td>18</td>\n",
       "      <td>26</td>\n",
       "    </tr>\n",
       "    <tr>\n",
       "      <th>425</th>\n",
       "      <td>aadf35db6b</td>\n",
       "      <td>It is housed in a Martello A series of such to...</td>\n",
       "      <td>A number of these towers, which were built to ...</td>\n",
       "      <td>en</td>\n",
       "      <td>English</td>\n",
       "      <td>entailment</td>\n",
       "      <td>48</td>\n",
       "      <td>26</td>\n",
       "    </tr>\n",
       "    <tr>\n",
       "      <th>...</th>\n",
       "      <td>...</td>\n",
       "      <td>...</td>\n",
       "      <td>...</td>\n",
       "      <td>...</td>\n",
       "      <td>...</td>\n",
       "      <td>...</td>\n",
       "      <td>...</td>\n",
       "      <td>...</td>\n",
       "    </tr>\n",
       "    <tr>\n",
       "      <th>11770</th>\n",
       "      <td>b75fbc66b1</td>\n",
       "      <td>um i know that i had heard that uh McDonald's ...</td>\n",
       "      <td>McDonald's was sending their hot foods out in ...</td>\n",
       "      <td>en</td>\n",
       "      <td>English</td>\n",
       "      <td>entailment</td>\n",
       "      <td>33</td>\n",
       "      <td>30</td>\n",
       "    </tr>\n",
       "    <tr>\n",
       "      <th>11829</th>\n",
       "      <td>791d20b01c</td>\n",
       "      <td>That is exactly what our head coupon issuer Al...</td>\n",
       "      <td>This is what Greenspan did in 1987 and what I ...</td>\n",
       "      <td>en</td>\n",
       "      <td>English</td>\n",
       "      <td>neutral</td>\n",
       "      <td>23</td>\n",
       "      <td>24</td>\n",
       "    </tr>\n",
       "    <tr>\n",
       "      <th>11953</th>\n",
       "      <td>fe1d85502a</td>\n",
       "      <td>uh-huh i i thought they did an excellent job o...</td>\n",
       "      <td>Yeah they did a great job with making that per...</td>\n",
       "      <td>en</td>\n",
       "      <td>English</td>\n",
       "      <td>entailment</td>\n",
       "      <td>48</td>\n",
       "      <td>32</td>\n",
       "    </tr>\n",
       "    <tr>\n",
       "      <th>11983</th>\n",
       "      <td>368bc8a348</td>\n",
       "      <td>Although it ceased to be a political capital i...</td>\n",
       "      <td>Edinburgh was a focal point in the intellectua...</td>\n",
       "      <td>en</td>\n",
       "      <td>English</td>\n",
       "      <td>entailment</td>\n",
       "      <td>32</td>\n",
       "      <td>24</td>\n",
       "    </tr>\n",
       "    <tr>\n",
       "      <th>12056</th>\n",
       "      <td>6b2d9c2f9e</td>\n",
       "      <td>There's a lot of villas all the way along, but...</td>\n",
       "      <td>There were only a few villas the whole way alo...</td>\n",
       "      <td>en</td>\n",
       "      <td>English</td>\n",
       "      <td>contradiction</td>\n",
       "      <td>40</td>\n",
       "      <td>24</td>\n",
       "    </tr>\n",
       "  </tbody>\n",
       "</table>\n",
       "<p>125 rows × 8 columns</p>\n",
       "</div>"
      ],
      "text/plain": [
       "               id                                            premise  \\\n",
       "21     ad5a79456e  Increased saving by current generations would ...   \n",
       "67     e390988e6f  The seven grants flow from a new Nonprofit Cap...   \n",
       "251    685d9362cc  But is the Internet so miraculous an advertisi...   \n",
       "271    006bde060b  As long as Assad lives, he can manage these tr...   \n",
       "425    aadf35db6b  It is housed in a Martello A series of such to...   \n",
       "...           ...                                                ...   \n",
       "11770  b75fbc66b1  um i know that i had heard that uh McDonald's ...   \n",
       "11829  791d20b01c  That is exactly what our head coupon issuer Al...   \n",
       "11953  fe1d85502a  uh-huh i i thought they did an excellent job o...   \n",
       "11983  368bc8a348  Although it ceased to be a political capital i...   \n",
       "12056  6b2d9c2f9e  There's a lot of villas all the way along, but...   \n",
       "\n",
       "                                              hypothesis lang_abv language  \\\n",
       "21     Current generations' increased saving would ex...       en  English   \n",
       "67     The grants flow from a Nonprofit Capacity Buil...       en  English   \n",
       "251    Was the internet so great at advertising that ...       en  English   \n",
       "271    As long as Assad doesn't die in the hurricane,...       en  English   \n",
       "425    A number of these towers, which were built to ...       en  English   \n",
       "...                                                  ...      ...      ...   \n",
       "11770  McDonald's was sending their hot foods out in ...       en  English   \n",
       "11829  This is what Greenspan did in 1987 and what I ...       en  English   \n",
       "11953  Yeah they did a great job with making that per...       en  English   \n",
       "11983  Edinburgh was a focal point in the intellectua...       en  English   \n",
       "12056  There were only a few villas the whole way alo...       en  English   \n",
       "\n",
       "               label  premise_length  hypothesis_length  \n",
       "21        entailment              32                 33  \n",
       "67           neutral              39                 31  \n",
       "251       entailment              47                 39  \n",
       "271          neutral              18                 26  \n",
       "425       entailment              48                 26  \n",
       "...              ...             ...                ...  \n",
       "11770     entailment              33                 30  \n",
       "11829        neutral              23                 24  \n",
       "11953     entailment              48                 32  \n",
       "11983     entailment              32                 24  \n",
       "12056  contradiction              40                 24  \n",
       "\n",
       "[125 rows x 8 columns]"
      ]
     },
     "execution_count": 25,
     "metadata": {},
     "output_type": "execute_result"
    }
   ],
   "source": [
    "hypotheses_outliers = get_outliers(data, 'hypothesis_length')\n",
    "hypotheses_outliers"
   ]
  },
  {
   "cell_type": "markdown",
   "metadata": {},
   "source": [
    "Look at quite long hypothesis."
   ]
  },
  {
   "cell_type": "code",
   "execution_count": 26,
   "metadata": {},
   "outputs": [
    {
     "data": {
      "text/plain": [
       "(33,\n",
       " \"Current generations' increased saving would expand the nation's capital stock, allowing future generations to more easily afford the nation's retirement costs while also enjoying higher standards of living.\")"
      ]
     },
     "execution_count": 26,
     "metadata": {},
     "output_type": "execute_result"
    }
   ],
   "source": [
    "hypotheses_outliers.loc[21].hypothesis_length, hypotheses_outliers.loc[21].hypothesis"
   ]
  },
  {
   "cell_type": "markdown",
   "metadata": {},
   "source": [
    "Look at extra long hypothesis."
   ]
  },
  {
   "cell_type": "code",
   "execution_count": 27,
   "metadata": {},
   "outputs": [],
   "source": [
    "longest_hypothesis = hypotheses_outliers[\n",
    "    hypotheses_outliers.hypothesis_length == hypotheses_outliers.hypothesis_length.max()\n",
    "].iloc[0]"
   ]
  },
  {
   "cell_type": "code",
   "execution_count": 28,
   "metadata": {},
   "outputs": [
    {
     "data": {
      "text/plain": [
       "(51,\n",
       " 'It is thought, but not known, that a lesser percentage of possible deliveries on rural routes are businesses, and part of the reason for the difference in pieces per possible delivery, may be due to the fact that five percent of possible residential deliveries are businesses.')"
      ]
     },
     "execution_count": 28,
     "metadata": {},
     "output_type": "execute_result"
    }
   ],
   "source": [
    "longest_hypothesis.hypothesis_length, longest_hypothesis.hypothesis"
   ]
  },
  {
   "cell_type": "markdown",
   "metadata": {},
   "source": [
    "Even the longest hypothesis is not so long and is quite understandable. Therefore **we will not remove** longer hypothesis."
   ]
  },
  {
   "cell_type": "markdown",
   "metadata": {},
   "source": [
    "## Word Frequency"
   ]
  },
  {
   "cell_type": "code",
   "execution_count": 29,
   "metadata": {},
   "outputs": [],
   "source": [
    "wnl = WordNetLemmatizer()"
   ]
  },
  {
   "cell_type": "code",
   "execution_count": 69,
   "metadata": {},
   "outputs": [],
   "source": [
    "word_counts = {}\n",
    "\n",
    "for sentence_source in [data.premise.values, data.hypothesis.values]:\n",
    "    for sentence in sentence_source:\n",
    "        for word in word_tokenize(sentence):\n",
    "            word_lemmatized = wnl.lemmatize(word)\n",
    "            word_counts[word_lemmatized] = word_counts.get(word_lemmatized, 0) + 1\n",
    "\n",
    "words, counts = [], []\n",
    "for word, count in sorted(word_counts.items(), key=lambda x: x[1]):\n",
    "    words.append(word)\n",
    "    counts.append(count)\n",
    "    \n",
    "word_counts = pd.DataFrame({'word': words, 'frequency': counts})"
   ]
  },
  {
   "cell_type": "code",
   "execution_count": 70,
   "metadata": {},
   "outputs": [
    {
     "data": {
      "text/html": [
       "<div>\n",
       "<style scoped>\n",
       "    .dataframe tbody tr th:only-of-type {\n",
       "        vertical-align: middle;\n",
       "    }\n",
       "\n",
       "    .dataframe tbody tr th {\n",
       "        vertical-align: top;\n",
       "    }\n",
       "\n",
       "    .dataframe thead th {\n",
       "        text-align: right;\n",
       "    }\n",
       "</style>\n",
       "<table border=\"1\" class=\"dataframe\">\n",
       "  <thead>\n",
       "    <tr style=\"text-align: right;\">\n",
       "      <th></th>\n",
       "      <th>word</th>\n",
       "      <th>frequency</th>\n",
       "    </tr>\n",
       "  </thead>\n",
       "  <tbody>\n",
       "    <tr>\n",
       "      <th>0</th>\n",
       "      <td>fatally</td>\n",
       "      <td>1</td>\n",
       "    </tr>\n",
       "    <tr>\n",
       "      <th>1</th>\n",
       "      <td>crammed</td>\n",
       "      <td>1</td>\n",
       "    </tr>\n",
       "    <tr>\n",
       "      <th>2</th>\n",
       "      <td>curd</td>\n",
       "      <td>1</td>\n",
       "    </tr>\n",
       "    <tr>\n",
       "      <th>3</th>\n",
       "      <td>coconut</td>\n",
       "      <td>1</td>\n",
       "    </tr>\n",
       "    <tr>\n",
       "      <th>4</th>\n",
       "      <td>garland</td>\n",
       "      <td>1</td>\n",
       "    </tr>\n",
       "    <tr>\n",
       "      <th>...</th>\n",
       "      <td>...</td>\n",
       "      <td>...</td>\n",
       "    </tr>\n",
       "    <tr>\n",
       "      <th>13392</th>\n",
       "      <td>to</td>\n",
       "      <td>5355</td>\n",
       "    </tr>\n",
       "    <tr>\n",
       "      <th>13393</th>\n",
       "      <td>of</td>\n",
       "      <td>5497</td>\n",
       "    </tr>\n",
       "    <tr>\n",
       "      <th>13394</th>\n",
       "      <td>,</td>\n",
       "      <td>6910</td>\n",
       "    </tr>\n",
       "    <tr>\n",
       "      <th>13395</th>\n",
       "      <td>the</td>\n",
       "      <td>10205</td>\n",
       "    </tr>\n",
       "    <tr>\n",
       "      <th>13396</th>\n",
       "      <td>.</td>\n",
       "      <td>11591</td>\n",
       "    </tr>\n",
       "  </tbody>\n",
       "</table>\n",
       "<p>13397 rows × 2 columns</p>\n",
       "</div>"
      ],
      "text/plain": [
       "          word  frequency\n",
       "0      fatally          1\n",
       "1      crammed          1\n",
       "2         curd          1\n",
       "3      coconut          1\n",
       "4      garland          1\n",
       "...        ...        ...\n",
       "13392       to       5355\n",
       "13393       of       5497\n",
       "13394        ,       6910\n",
       "13395      the      10205\n",
       "13396        .      11591\n",
       "\n",
       "[13397 rows x 2 columns]"
      ]
     },
     "execution_count": 70,
     "metadata": {},
     "output_type": "execute_result"
    }
   ],
   "source": [
    "word_counts"
   ]
  },
  {
   "cell_type": "code",
   "execution_count": 73,
   "metadata": {},
   "outputs": [
    {
     "data": {
      "text/plain": [
       "count    13397.000000\n",
       "mean        16.929835\n",
       "std        189.061196\n",
       "min          1.000000\n",
       "25%          2.000000\n",
       "50%          3.000000\n",
       "75%          7.000000\n",
       "max      11591.000000\n",
       "Name: frequency, dtype: float64"
      ]
     },
     "execution_count": 73,
     "metadata": {},
     "output_type": "execute_result"
    }
   ],
   "source": [
    "word_counts.frequency.describe()"
   ]
  },
  {
   "cell_type": "markdown",
   "metadata": {},
   "source": [
    "In the whole dataset is 13,397 unique words. We can see that 75% of all words occur up to 7 times, so there is only a small set of valid words."
   ]
  },
  {
   "cell_type": "code",
   "execution_count": null,
   "metadata": {},
   "outputs": [],
   "source": []
  }
 ],
 "metadata": {
  "kernelspec": {
   "display_name": "Python 3",
   "language": "python",
   "name": "python3"
  },
  "language_info": {
   "codemirror_mode": {
    "name": "ipython",
    "version": 3
   },
   "file_extension": ".py",
   "mimetype": "text/x-python",
   "name": "python",
   "nbconvert_exporter": "python",
   "pygments_lexer": "ipython3",
   "version": "3.7.7"
  }
 },
 "nbformat": 4,
 "nbformat_minor": 4
}
